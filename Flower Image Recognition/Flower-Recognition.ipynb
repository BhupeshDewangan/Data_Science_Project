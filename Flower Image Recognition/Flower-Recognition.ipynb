{
 "cells": [
  {
   "cell_type": "code",
   "execution_count": 1,
   "id": "79d3ba7b",
   "metadata": {},
   "outputs": [],
   "source": [
    "import numpy as np\n",
    "import tensorflow as tf\n",
    "from keras.preprocessing.image import ImageDataGenerator"
   ]
  },
  {
   "cell_type": "code",
   "execution_count": 2,
   "id": "32567909",
   "metadata": {},
   "outputs": [],
   "source": [
    "#Data Procesing\n",
    "\n",
    "#Training Image Processing"
   ]
  },
  {
   "cell_type": "code",
   "execution_count": 3,
   "id": "b9f17bc8",
   "metadata": {},
   "outputs": [
    {
     "name": "stdout",
     "output_type": "stream",
     "text": [
      "Found 1830 images belonging to 5 classes.\n"
     ]
    }
   ],
   "source": [
    "train_datagen = ImageDataGenerator(\n",
    "                rescale = 1./255,\n",
    "                shear_range = 0.2,\n",
    "                zoom_range = 0.2,\n",
    "                horizontal_flip = True)\n",
    "\n",
    "training_set = train_datagen.flow_from_directory(\n",
    "                'training_set', target_size = (64, 64), batch_size = 32, class_mode = 'categorical')"
   ]
  },
  {
   "cell_type": "code",
   "execution_count": 4,
   "id": "b9a06219",
   "metadata": {},
   "outputs": [],
   "source": [
    "# Test Imaage Processing"
   ]
  },
  {
   "cell_type": "code",
   "execution_count": 5,
   "id": "877bf9bc",
   "metadata": {},
   "outputs": [
    {
     "name": "stdout",
     "output_type": "stream",
     "text": [
      "Found 561 images belonging to 5 classes.\n"
     ]
    }
   ],
   "source": [
    "test_datagen = ImageDataGenerator(rescale = 1./255)\n",
    "test_set = train_datagen.flow_from_directory('test_set', target_size = (64, 64), batch_size = 32, class_mode = 'categorical')"
   ]
  },
  {
   "cell_type": "code",
   "execution_count": 6,
   "id": "ea9d7dd5",
   "metadata": {},
   "outputs": [],
   "source": [
    "#Building Model"
   ]
  },
  {
   "cell_type": "code",
   "execution_count": 7,
   "id": "3ca883b0",
   "metadata": {},
   "outputs": [],
   "source": [
    "cnn = tf.keras.models.Sequential()"
   ]
  },
  {
   "cell_type": "code",
   "execution_count": 8,
   "id": "dc446fc1",
   "metadata": {},
   "outputs": [],
   "source": [
    "# Building Convolution Layer"
   ]
  },
  {
   "cell_type": "code",
   "execution_count": 9,
   "id": "252e8aeb",
   "metadata": {},
   "outputs": [],
   "source": [
    "cnn.add(tf.keras.layers.Conv2D(filters = 64, kernel_size = 3, activation = 'relu', input_shape = [64, 64, 3]))\n",
    "cnn.add(tf.keras.layers.MaxPool2D(pool_size = 2, strides = 2))"
   ]
  },
  {
   "cell_type": "code",
   "execution_count": 10,
   "id": "67639902",
   "metadata": {},
   "outputs": [],
   "source": [
    "cnn.add(tf.keras.layers.Conv2D(filters = 128, kernel_size = 3, activation = 'relu'))\n",
    "cnn.add(tf.keras.layers.MaxPool2D(pool_size = 2, strides = 2))"
   ]
  },
  {
   "cell_type": "code",
   "execution_count": 11,
   "id": "9afc9dc7",
   "metadata": {},
   "outputs": [],
   "source": [
    "cnn.add(tf.keras.layers.Dropout(0.5))"
   ]
  },
  {
   "cell_type": "code",
   "execution_count": 12,
   "id": "7265e7ab",
   "metadata": {},
   "outputs": [],
   "source": [
    "cnn.add(tf.keras.layers.Flatten())"
   ]
  },
  {
   "cell_type": "code",
   "execution_count": 13,
   "id": "c34f9601",
   "metadata": {},
   "outputs": [],
   "source": [
    "cnn.add(tf.keras.layers.Dropout(0.5))"
   ]
  },
  {
   "cell_type": "code",
   "execution_count": 14,
   "id": "c5a90c47",
   "metadata": {},
   "outputs": [],
   "source": [
    "cnn.add(tf.keras.layers.Dense(units = 128, activation = 'relu'))"
   ]
  },
  {
   "cell_type": "code",
   "execution_count": 15,
   "id": "e2fff214",
   "metadata": {},
   "outputs": [],
   "source": [
    "cnn.add(tf.keras.layers.Dense(units = 5, activation = 'softmax'))"
   ]
  },
  {
   "cell_type": "code",
   "execution_count": 16,
   "id": "da09d286",
   "metadata": {},
   "outputs": [],
   "source": [
    "cnn.compile(optimizer = 'rmsprop', loss = 'categorical_crossentropy', metrics = ['accuracy'])"
   ]
  },
  {
   "cell_type": "code",
   "execution_count": 17,
   "id": "9e469ff0",
   "metadata": {},
   "outputs": [
    {
     "name": "stdout",
     "output_type": "stream",
     "text": [
      "Epoch 1/15\n",
      "58/58 [==============================] - 25s 409ms/step - loss: 1.5449 - accuracy: 0.3552 - val_loss: 1.1895 - val_accuracy: 0.4759\n",
      "Epoch 2/15\n",
      "58/58 [==============================] - 38s 666ms/step - loss: 1.1861 - accuracy: 0.4907 - val_loss: 1.0203 - val_accuracy: 0.5900\n",
      "Epoch 3/15\n",
      "58/58 [==============================] - 23s 401ms/step - loss: 1.1086 - accuracy: 0.5574 - val_loss: 0.9636 - val_accuracy: 0.6168\n",
      "Epoch 4/15\n",
      "58/58 [==============================] - 24s 404ms/step - loss: 1.0138 - accuracy: 0.5945 - val_loss: 0.9667 - val_accuracy: 0.5989\n",
      "Epoch 5/15\n",
      "58/58 [==============================] - 47s 823ms/step - loss: 0.9765 - accuracy: 0.6126 - val_loss: 0.8986 - val_accuracy: 0.6257\n",
      "Epoch 6/15\n",
      "58/58 [==============================] - 24s 415ms/step - loss: 0.9442 - accuracy: 0.6104 - val_loss: 0.8796 - val_accuracy: 0.6488\n",
      "Epoch 7/15\n",
      "58/58 [==============================] - 30s 513ms/step - loss: 0.8952 - accuracy: 0.6399 - val_loss: 0.8698 - val_accuracy: 0.6578\n",
      "Epoch 8/15\n",
      "58/58 [==============================] - 28s 489ms/step - loss: 0.8431 - accuracy: 0.6760 - val_loss: 0.8965 - val_accuracy: 0.6667\n",
      "Epoch 9/15\n",
      "58/58 [==============================] - 24s 408ms/step - loss: 0.8370 - accuracy: 0.6639 - val_loss: 0.8503 - val_accuracy: 0.6702\n",
      "Epoch 10/15\n",
      "58/58 [==============================] - 24s 415ms/step - loss: 0.7929 - accuracy: 0.6874 - val_loss: 0.8231 - val_accuracy: 0.6702\n",
      "Epoch 11/15\n",
      "58/58 [==============================] - 24s 417ms/step - loss: 0.7689 - accuracy: 0.6962 - val_loss: 0.8158 - val_accuracy: 0.6934\n",
      "Epoch 12/15\n",
      "58/58 [==============================] - 31s 538ms/step - loss: 0.7783 - accuracy: 0.7000 - val_loss: 0.8231 - val_accuracy: 0.7112\n",
      "Epoch 13/15\n",
      "58/58 [==============================] - 24s 413ms/step - loss: 0.7480 - accuracy: 0.7148 - val_loss: 0.8667 - val_accuracy: 0.6506\n",
      "Epoch 14/15\n",
      "58/58 [==============================] - 29s 496ms/step - loss: 0.6858 - accuracy: 0.7388 - val_loss: 0.8815 - val_accuracy: 0.6720\n",
      "Epoch 15/15\n",
      "58/58 [==============================] - 24s 425ms/step - loss: 0.6582 - accuracy: 0.7563 - val_loss: 0.8928 - val_accuracy: 0.6863\n"
     ]
    },
    {
     "data": {
      "text/plain": [
       "<keras.callbacks.History at 0x166ac53de50>"
      ]
     },
     "execution_count": 17,
     "metadata": {},
     "output_type": "execute_result"
    }
   ],
   "source": [
    "cnn.fit(x = training_set, validation_data = test_set, epochs=15)"
   ]
  },
  {
   "cell_type": "code",
   "execution_count": 18,
   "id": "a0c8512e",
   "metadata": {},
   "outputs": [],
   "source": [
    "# PreProcess New Image"
   ]
  },
  {
   "cell_type": "code",
   "execution_count": 52,
   "id": "9a479e8a",
   "metadata": {},
   "outputs": [],
   "source": [
    "from keras.preprocessing import image\n",
    "test_image = image.load_img('Prediction/bluerose.jpg', target_size = (64, 64))\n",
    "test_image = image.img_to_array(test_image)\n",
    "test_image = np.expand_dims(test_image, axis = 0)\n",
    "result = cnn.predict(test_image)"
   ]
  },
  {
   "cell_type": "code",
   "execution_count": 53,
   "id": "8682a2ce",
   "metadata": {},
   "outputs": [
    {
     "data": {
      "text/plain": [
       "{'daisy': 0, 'dandelion': 1, 'rose': 2, 'sunflower': 3, 'tulip': 4}"
      ]
     },
     "execution_count": 53,
     "metadata": {},
     "output_type": "execute_result"
    }
   ],
   "source": [
    "training_set.class_indices"
   ]
  },
  {
   "cell_type": "code",
   "execution_count": 54,
   "id": "f570266c",
   "metadata": {},
   "outputs": [
    {
     "name": "stdout",
     "output_type": "stream",
     "text": [
      "[[0. 0. 1. 0. 0.]]\n"
     ]
    }
   ],
   "source": [
    "print(result)"
   ]
  },
  {
   "cell_type": "code",
   "execution_count": 55,
   "id": "428c7f21",
   "metadata": {},
   "outputs": [
    {
     "name": "stdout",
     "output_type": "stream",
     "text": [
      "rose\n"
     ]
    }
   ],
   "source": [
    "if result[0][0] == 1:\n",
    "\tprint('daisy')\n",
    "elif result[0][1] == 1:\n",
    "\tprint('dandelion')\n",
    "elif result[0][2] == 1:\n",
    "\tprint('rose')\n",
    "elif result[0][3] == 1:\n",
    "\tprint('sunflower')\n",
    "elif result[0][4] == 1:\n",
    "\tprint('tulip')\n",
    "else:\n",
    "\tprint('not recognize')"
   ]
  },
  {
   "cell_type": "code",
   "execution_count": null,
   "id": "932e1b7d",
   "metadata": {},
   "outputs": [],
   "source": []
  }
 ],
 "metadata": {
  "kernelspec": {
   "display_name": "Python 3 (ipykernel)",
   "language": "python",
   "name": "python3"
  },
  "language_info": {
   "codemirror_mode": {
    "name": "ipython",
    "version": 3
   },
   "file_extension": ".py",
   "mimetype": "text/x-python",
   "name": "python",
   "nbconvert_exporter": "python",
   "pygments_lexer": "ipython3",
   "version": "3.9.7"
  }
 },
 "nbformat": 4,
 "nbformat_minor": 5
}
